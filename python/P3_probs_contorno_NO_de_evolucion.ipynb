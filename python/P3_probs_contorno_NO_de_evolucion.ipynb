{
  "nbformat": 4,
  "nbformat_minor": 0,
  "metadata": {
    "colab": {
      "provenance": []
    },
    "kernelspec": {
      "name": "python3",
      "display_name": "Python 3"
    },
    "language_info": {
      "name": "python"
    }
  },
  "cells": [
    {
      "cell_type": "markdown",
      "source": [
        "### Librerías: no olvides correr esta celda."
      ],
      "metadata": {
        "id": "-CFCo6g80JAj"
      }
    },
    {
      "cell_type": "code",
      "execution_count": null,
      "metadata": {
        "id": "D8tRg_jaUopK"
      },
      "outputs": [],
      "source": [
        "import numpy as np"
      ]
    },
    {
      "cell_type": "markdown",
      "source": [
        "---\n",
        "# Más abajo están los ingredientes para que puedan ponerse a hacer los ejercicios de la P3 hasta el 6 inclusive, es decir los problemas de contorno que NO son de evolución.\n",
        "\n",
        "## Correr y experimentar para entender el código. Luego la sugerencia es utilizarlo para resolver los ejercicios.\n",
        "---"
      ],
      "metadata": {
        "id": "2zg7K0dGxcyf"
      }
    },
    {
      "cell_type": "markdown",
      "source": [
        "### Vectores y matrices: algunas cosillas (el resto en la clase introductoria)"
      ],
      "metadata": {
        "id": "4HbS4PzDYB6p"
      }
    },
    {
      "cell_type": "code",
      "source": [
        "vector_ceros = np.zeros(3)\n",
        "print(\"Vector de ceros:\")\n",
        "print(vector_ceros)\n",
        "\n",
        "vector_unos = np.ones(5)\n",
        "print(\"Vector de unos:\")\n",
        "print(vector_unos)\n",
        "\n",
        "vector_todo_igual = 0.5*vector_unos\n",
        "print(\"Vector todo igual: \")\n",
        "print(vector_todo_igual)"
      ],
      "metadata": {
        "id": "AKpFoCRLUqRo"
      },
      "execution_count": null,
      "outputs": []
    },
    {
      "cell_type": "code",
      "source": [
        "vector_cualquiera = np.array([1,2,3,4])\n",
        "\n",
        "matriz_diagonal = np.diag(vector_cualquiera)\n",
        "print(\"Matriz diagonal: \")\n",
        "print(matriz_diagonal)\n",
        "\n",
        "matriz_diagonal_arriba =  np.diag(vector_cualquiera, 1)\n",
        "print(\"Matriz diagonal arriba: \")\n",
        "print(matriz_diagonal_arriba)\n",
        "\n",
        "matriz_diagonal_abajo =  np.diag(vector_cualquiera, -1)\n",
        "print(\"Matriz diagonal abajo: \")\n",
        "print(matriz_diagonal_abajo)"
      ],
      "metadata": {
        "id": "ZjPh4wxg0EXi"
      },
      "execution_count": null,
      "outputs": []
    },
    {
      "cell_type": "markdown",
      "source": [
        "### Cómo resolver un sistema $$ Ax=b$$"
      ],
      "metadata": {
        "id": "jZGQz9RHYtE4"
      }
    },
    {
      "cell_type": "code",
      "source": [
        "# Matriz del sistema\n",
        "A = np.array([ [1,2], [-3, 7] ])\n",
        "\n",
        "# vector b\n",
        "b = np.array([3,6])\n",
        "\n",
        "# Resuelvo el sistema lineal\n",
        "solucion = np.linalg.solve(A,b)\n",
        "print(solucion)"
      ],
      "metadata": {
        "id": "6VE11NrVYN4f"
      },
      "execution_count": null,
      "outputs": []
    },
    {
      "cell_type": "markdown",
      "source": [
        "---\n",
        "# Resolver los ejercicios 3 y 6 de la P3.\n",
        "### El ej. 4 es una variante del 3."
      ],
      "metadata": {
        "id": "S4sKpyZe0z0x"
      }
    }
  ]
}
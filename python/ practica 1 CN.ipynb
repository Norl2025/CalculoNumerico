{
 "cells": [
  {
   "cell_type": "markdown",
   "metadata": {
    "id": "eO10ODai4zjf"
   },
   "source": [
    "# Entorno Jupyter Notebook\n",
    "\n",
    "* ### Este es un entorno más bien para uso didáctico, que permite intercarlar código con texto en formato markdown. Resulta útil como primera aproximación a programa en Python.\n",
    "\n",
    "* ### Jupyter Notebook se puede usar online desde Google Colab: https://colab.research.google.com/\n",
    "\n",
    "* ### Una alternativa intermedia es instalar Anaconda: https://www.anaconda.com/download, el cual instala automáticamente Python, Jupyter Notebook y todo lo que vamos a necesitar.\n",
    "\n",
    "* ### Por supuesto usted puede usar Python de manera más profesional, y como probablemente lo use en cualquier ámbito laboral, e instalar Python y usarlo a través de un editor o una IDE.\n",
    "\n",
    "* ### Puede instalar Python desde acá: https://www.python.org/ (¡si usa linux ya lo tiene instalado!)\n",
    "\n",
    "* ### Puede elegir algún editor o IDE desde acá: https://docs.python.org/3/using/editors.html\n",
    "\n",
    "* ### Algunos editores/IDEs populares son: Atom, Eclipse, Netbeans, PyCharm, Spyder, Sublime, Visual Studio Code, Notepad++. ¡Pero elija cualquier de su agrado!"
   ]
  },
  {
   "cell_type": "markdown",
   "metadata": {
    "id": "maoHKTUZycGP"
   },
   "source": [
    "# Popularidad de uso de Python\n",
    "\n",
    "### [Tiobe index](https://www.tiobe.com/tiobe-index/)\n"
   ]
  },
  {
   "cell_type": "markdown",
   "metadata": {
    "id": "YTkQJxTs1ShV"
   },
   "source": [
    "# Material de estudio/consulta para Python:\n",
    "\n",
    "### Ver \"Bibliografía\" en el Campus.\n"
   ]
  },
  {
   "cell_type": "markdown",
   "metadata": {
    "id": "9NMriwq-wM3O"
   },
   "source": [
    "# Python como calculadora"
   ]
  },
  {
   "cell_type": "code",
   "execution_count": null,
   "metadata": {
    "id": "FTbObhB5wM3R"
   },
   "outputs": [],
   "source": [
    "# suma/resta\n"
   ]
  },
  {
   "cell_type": "code",
   "execution_count": null,
   "metadata": {
    "id": "N2hfvwXVwM3T"
   },
   "outputs": [],
   "source": [
    "# producto/cociente\n"
   ]
  },
  {
   "cell_type": "code",
   "execution_count": null,
   "metadata": {
    "id": "OPeWMH5MwM3U"
   },
   "outputs": [],
   "source": [
    "# potencia (probar enteros, floats, fracciones)"
   ]
  },
  {
   "cell_type": "markdown",
   "metadata": {
    "id": "I1F-c_SkwM3W"
   },
   "source": [
    "# Variables y asignaciones"
   ]
  },
  {
   "cell_type": "code",
   "execution_count": null,
   "metadata": {
    "id": "7QA_iBgBwM3X"
   },
   "outputs": [],
   "source": [
    "# asignación\n"
   ]
  },
  {
   "cell_type": "code",
   "execution_count": null,
   "metadata": {
    "id": "gjd-iI3nwM3Y"
   },
   "outputs": [],
   "source": [
    "# imprimir por pantalla"
   ]
  },
  {
   "cell_type": "code",
   "execution_count": null,
   "metadata": {
    "id": "ESF9BodBwM3a"
   },
   "outputs": [],
   "source": [
    "# doble asignación e imprimir\n"
   ]
  },
  {
   "cell_type": "code",
   "execution_count": null,
   "metadata": {
    "id": "RjNAI37EwM3c"
   },
   "outputs": [],
   "source": [
    "# asignación NO funciona como un signo de igual: ejemplito\n"
   ]
  },
  {
   "cell_type": "code",
   "execution_count": null,
   "metadata": {
    "id": "HS95r4_qLlIm"
   },
   "outputs": [],
   "source": [
    "# Asignación que se pisa: imprimir valor viejo y valor nuevo"
   ]
  },
  {
   "cell_type": "markdown",
   "metadata": {
    "id": "fc1qMlnow6V0"
   },
   "source": [
    "# Vectores, matrices, y el épsilon de la máquina"
   ]
  },
  {
   "cell_type": "code",
   "execution_count": 41,
   "metadata": {
    "id": "Yuz62TRbw_Fe"
   },
   "outputs": [
    {
     "name": "stdout",
     "output_type": "stream",
     "text": [
      "2.220446049250313e-16\n",
      "[ 1  2  3  4  5  6  7  8  9 10 11]\n",
      "[[1 2 3 4]\n",
      " [4 3 2 1]\n",
      " [2 1 3 4]\n",
      " [3 4 2 1]]\n",
      "11\n",
      "[11]\n",
      "3\n",
      "[1 2 3 4]\n",
      "1\n",
      "[3 2 3 2]\n",
      "[[3 4]\n",
      " [2 1]]\n",
      "2\n",
      "3\n"
     ]
    }
   ],
   "source": [
    "import numpy as np\n",
    "# documentación: https://numpy.org/doc/stable/index.html\n",
    "\n",
    "\n",
    "# épsilon de la máquina\n",
    "#eps = np.finfo(float).eps\n",
    "#print(eps)\n",
    "eps = np.finfo(float).eps\n",
    "print(eps)\n",
    "\n",
    "# vector = # np.array...\n",
    "# imprimir vector\n",
    "vector = np.array([1,2,3,4,5,6,7,8,9,10,11])\n",
    "print(vector)\n",
    "\n",
    "# matriz = # np.array ...\n",
    "# imprimir matriz\n",
    "matriz = np.array([[1,2,3,4],[4,3,2,1],[2,1,3,4],[3,4,2,1]])\n",
    "print(matriz)\n",
    "\n",
    "\n",
    "# Creación de arrays: https://numpy.org/doc/stable/reference/routines.array-creation.html#\n",
    "# Manipulación de arrays: https://numpy.org/doc/stable/reference/routines.array-manipulation.html\n",
    "\n",
    "\n",
    "#Algunos ejemplitos de acceder, recortar, etc.\n",
    "#acceder al 10 del vector1\n",
    "print(vector[10])\n",
    "\n",
    "\n",
    "#acceder desde el 10 en adelante del vector1\n",
    "print(vector[10:])\n",
    "\n",
    "#acceder al 30 de la matriz1\n",
    "print(matriz[3,0])\n",
    "\n",
    "\n",
    "#acceder a la primer fila de matriz1\n",
    "print(matriz[0,:])\n",
    "\n",
    "\n",
    "# acceder al 1 y al 30 de la matriz1\n",
    "print(matriz[0,0])\n",
    "\n",
    "\n",
    "# EJERCICIOS\n",
    "\n",
    "# acceder a la tercer columna de la matriz\n",
    "print(matriz[:,2])\n",
    "\n",
    "\n",
    "# acceder a la submatriz de 2x2 de la esquina inferior derecha.\n",
    "print(matriz[2:,2:])\n",
    "\n",
    "# acceder al segundo y tercer elemento de vector1\n",
    "print(vector[1])\n",
    "print(vector[2])"
   ]
  },
  {
   "cell_type": "markdown",
   "metadata": {
    "id": "8FZkCFKpzJW1"
   },
   "source": [
    "# Ciclicos y condicionales"
   ]
  },
  {
   "cell_type": "code",
   "execution_count": 45,
   "metadata": {
    "id": "8lJ-jy6zzL0f"
   },
   "outputs": [
    {
     "name": "stdout",
     "output_type": "stream",
     "text": [
      "[ 1.  2.  3.  4.  5.  6.  7.  8.  9. 10. 11. 12. 13. 14. 15. 16. 17. 18.\n",
      " 19. 20. 21. 22. 23. 24. 25. 26. 27. 28. 29. 30. 31. 32. 33. 34. 35. 36.\n",
      " 37. 38. 39. 40. 41. 42. 43. 44. 45. 46. 47. 48. 49. 50. 51. 52. 53. 54.\n",
      " 55. 56. 57. 58. 59. 60. 61. 62. 63. 64. 65. 66. 67. 68. 69. 70. 71. 72.\n",
      " 73. 74. 75. 76. 77. 78. 79. 80. 81. 82. 83. 84. 85. 86. 87. 88. 89. 90.\n",
      " 91. 92. 93. 94. 95. 96. 97. 98. 99.]\n",
      "Blastoff!\n",
      "0\n"
     ]
    }
   ],
   "source": [
    "#la identación sirve para....\n",
    "\n",
    "# ¿por qué está bueno usar vector, vector2, etc? Relacionarlo con lo anterior de pisar variables con otra asignación\n",
    "\n",
    "\n",
    "\n",
    "\n",
    "# Quiero hacer un vector que tenga todos los numeros enteros del 1 al 100\n",
    "# lo podemos hacer a mano con np.array([1,2,3...]) pero uffff :(\n",
    "\n",
    "# vector = np.array( [] ) #array vacío\n",
    "vector = np.array( [] )\n",
    "for i in range(1,100):\n",
    "    vector = np.append(vector,i)\n",
    "print(vector)\n",
    "\n",
    "# for agregando el valor del índice al final del array\n",
    "# imprimir dentro y fuera del for el vector y ver la diferencia\n",
    "\n",
    "\n",
    "\n",
    "\n",
    "# ídem antes con algún condicional adentro del for\n",
    "# por ej. que agregue el valor si es par\n",
    "\n",
    "\n",
    "\n",
    "\n",
    "# vector3 = np.array( [] ) #array vacío\n",
    "# lo mismo que el primer caso pero con un while y un contador\n",
    "\n",
    "\n",
    "\n",
    "\n",
    "# EJERCICIOS\n",
    "\n",
    "# 1. ¿Qué hace este código? No lo ejecute.\n",
    "# for i in range(5): #de paso recordar el comportamiento por defecto del range, pues en realidad es inicio, fin+paso, paso\n",
    "\n",
    "#   if i == 2:\n",
    "#     print(i)     \n",
    "\n",
    "\n",
    "#2. ¿Qué hace este código? No lo ejecute.\n",
    "n = 10\n",
    "while n > -1:\n",
    "    if n == 0:\n",
    "        print('Blastoff!')\n",
    "        break\n",
    "    n = n - 1\n",
    "print(n)\n",
    "\n",
    "\n",
    "#3. puede ir algún ejercicio de for/while si es que está el tiempo."
   ]
  },
  {
   "cell_type": "markdown",
   "metadata": {
    "id": "d9nKNg7GwM3e"
   },
   "source": [
    "# Graficar funciones\n",
    "\n",
    "- ### Objetivo: graficar $\\sin(x)$ para $x$ entre -5 y 7"
   ]
  },
  {
   "cell_type": "code",
   "execution_count": 46,
   "metadata": {
    "id": "3S44JGHAwM3f"
   },
   "outputs": [],
   "source": [
    "import numpy as np #paquete para manejar arreglos\n",
    "from matplotlib import pyplot as plt #para graficar\n",
    "\n",
    "# Detalle técnico: no darle bola.\n",
    "plt.rcParams[\"figure.figsize\"] = (10,5) #tamaño de los gráficos: ancho x alto"
   ]
  },
  {
   "cell_type": "code",
   "execution_count": 49,
   "metadata": {
    "id": "_vG4wyaPwM3g"
   },
   "outputs": [],
   "source": [
    "# Aquí se puede discutir 5 min. la ventaja de definir funciones.\n",
    "\n",
    "#definir la funcion sen(x)\n",
    "def sin(x):\n",
    "    return np.sin(x)\n",
    "# algunos ejemplos de uso llamándola"
   ]
  },
  {
   "cell_type": "code",
   "execution_count": 51,
   "metadata": {},
   "outputs": [
    {
     "data": {
      "text/plain": [
       "1.2246467991473532e-16"
      ]
     },
     "execution_count": 51,
     "metadata": {},
     "output_type": "execute_result"
    }
   ],
   "source": [
    "np.sin(np.pi)"
   ]
  },
  {
   "cell_type": "code",
   "execution_count": 57,
   "metadata": {
    "id": "ffzvn3HOwM3h"
   },
   "outputs": [
    {
     "name": "stdout",
     "output_type": "stream",
     "text": [
      "[0.         0.12822827 0.25645654 0.38468481 0.51291309 0.64114136\n",
      " 0.76936963 0.8975979  1.02582617 1.15405444 1.28228272 1.41051099\n",
      " 1.53873926 1.66696753 1.7951958  1.92342407 2.05165235 2.17988062\n",
      " 2.30810889 2.43633716 2.56456543 2.6927937  2.82102197 2.94925025\n",
      " 3.07747852 3.20570679 3.33393506 3.46216333 3.5903916  3.71861988\n",
      " 3.84684815 3.97507642 4.10330469 4.23153296 4.35976123 4.48798951\n",
      " 4.61621778 4.74444605 4.87267432 5.00090259 5.12913086 5.25735913\n",
      " 5.38558741 5.51381568 5.64204395 5.77027222 5.89850049 6.02672876\n",
      " 6.15495704 6.28318531]\n"
     ]
    }
   ],
   "source": [
    "# array de valors de x (con linspace por ej.)\n",
    "valores_x = np.linspace(0,2*np.pi,50)\n",
    "print((valores_x))"
   ]
  },
  {
   "cell_type": "code",
   "execution_count": 63,
   "metadata": {
    "id": "GWX1pbiowM3h"
   },
   "outputs": [
    {
     "name": "stdout",
     "output_type": "stream",
     "text": [
      "[ 1.          0.99179001  0.96729486  0.92691676  0.8713187   0.80141362\n",
      "  0.71834935  0.6234898   0.51839257  0.40478334  0.28452759  0.1595999\n",
      "  0.03205158 -0.09602303 -0.22252093 -0.34536505 -0.46253829 -0.57211666\n",
      " -0.67230089 -0.76144596 -0.8380881  -0.90096887 -0.94905575 -0.98155916\n",
      " -0.99794539 -0.99794539 -0.98155916 -0.94905575 -0.90096887 -0.8380881\n",
      " -0.76144596 -0.67230089 -0.57211666 -0.46253829 -0.34536505 -0.22252093\n",
      " -0.09602303  0.03205158  0.1595999   0.28452759  0.40478334  0.51839257\n",
      "  0.6234898   0.71834935  0.80141362  0.8713187   0.92691676  0.96729486\n",
      "  0.99179001  1.        ]\n"
     ]
    }
   ],
   "source": [
    "# ídem para valores de y\n",
    "# observar que se evalúa la función en todo un vector de valores\n",
    "\n",
    "valores_y = np.cos(valores_x)\n",
    "print(valores_y)"
   ]
  },
  {
   "cell_type": "code",
   "execution_count": 64,
   "metadata": {
    "id": "Cu1sgeZwwM3i"
   },
   "outputs": [
    {
     "data": {
      "text/plain": [
       "[<matplotlib.lines.Line2D at 0x769e4f5d2a50>]"
      ]
     },
     "execution_count": 64,
     "metadata": {},
     "output_type": "execute_result"
    },
    {
     "data": {
      "image/png": "[encoded data removed]",
      "text/plain": [
       "<Figure size 1000x500 with 1 Axes>"
      ]
     },
     "metadata": {},
     "output_type": "display_data"
    }
   ],
   "source": [
    "# gráfico de la función bien básico\n",
    "\n",
    "\n",
    "# se puede contar, luego de que se pongan con el ejercicio de abajo, lo de\n",
    "plt.plot(valores_x, valores_y, '*')"
   ]
  },
  {
   "cell_type": "markdown",
   "metadata": {
    "id": "1rxn827uwsGp"
   },
   "source": [
    "## Ejercicio: graficar a $g(x)=x^2+2x-3$ para $x$ entre -2 y 3.\n",
    "\n",
    "### Primero con `linspace` con 1000 puntos\n",
    "### Segundo con `linspace` con 10 puntos\n",
    "\n",
    "### ¿Qué diferencia observa?"
   ]
  },
  {
   "cell_type": "code",
   "execution_count": 67,
   "metadata": {},
   "outputs": [],
   "source": [
    "def g(𝑥):\n",
    "    res = (x**2) + 2*x - 3\n",
    "    return res  \n"
   ]
  },
  {
   "cell_type": "code",
   "execution_count": 68,
   "metadata": {},
   "outputs": [],
   "source": [
    "valores_x1 = np.linspace(-2,3,1000)\n",
    "valores_y1 = g(valores_x1)"
   ]
  },
  {
   "cell_type": "code",
   "execution_count": 74,
   "metadata": {},
   "outputs": [],
   "source": [
    "valores_x2 = np.linspace(-2,3,10)\n",
    "valores_y2 = g(valores_x2)"
   ]
  },
  {
   "cell_type": "code",
   "execution_count": 77,
   "metadata": {},
   "outputs": [
    {
     "data": {
      "text/plain": [
       "[<matplotlib.lines.Line2D at 0x769e4f1982d0>]"
      ]
     },
     "execution_count": 77,
     "metadata": {},
     "output_type": "execute_result"
    },
    {
     "data": {
      "image/png": "[encoded data removed]",
      "text/plain": [
       "<Figure size 1000x500 with 1 Axes>"
      ]
     },
     "metadata": {},
     "output_type": "display_data"
    }
   ],
   "source": [
    "plt.plot(valores_x1,valores_y1)"
   ]
  },
  {
   "cell_type": "code",
   "execution_count": 78,
   "metadata": {},
   "outputs": [
    {
     "data": {
      "text/plain": [
       "[<matplotlib.lines.Line2D at 0x769e4f1ff710>]"
      ]
     },
     "execution_count": 78,
     "metadata": {},
     "output_type": "execute_result"
    },
    {
     "data": {
      "image/png": "[encoded data removed]",
      "text/plain": [
       "<Figure size 1000x500 with 1 Axes>"
      ]
     },
     "metadata": {},
     "output_type": "display_data"
    }
   ],
   "source": [
    "plt.plot(valores_x2,valores_y2)"
   ]
  },
  {
   "cell_type": "markdown",
   "metadata": {
    "id": "AR-qwshEvbMi"
   },
   "source": [
    "--------\n",
    "## Ejercicio: ver NB de acumulación de errores\n",
    "\n",
    "## Ejercicio: hacer 9 y 10 de la práctica 1."
   ]
  }
 ],
 "metadata": {
  "colab": {
   "provenance": []
  },
  "kernelspec": {
   "display_name": "Python 3 (ipykernel)",
   "language": "python",
   "name": "python3"
  },
  "language_info": {
   "codemirror_mode": {
    "name": "ipython",
    "version": 3
   },
   "file_extension": ".py",
   "mimetype": "text/x-python",
   "name": "python",
   "nbconvert_exporter": "python",
   "pygments_lexer": "ipython3",
   "version": "3.11.0"
  }
 },
 "nbformat": 4,
 "nbformat_minor": 1
}

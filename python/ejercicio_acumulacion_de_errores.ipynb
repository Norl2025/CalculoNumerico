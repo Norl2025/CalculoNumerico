{
  "cells": [
    {
      "cell_type": "markdown",
      "source": [
        "### Correr las celdas de abajo, pensar qué está pasando y porqué."
      ],
      "metadata": {
        "id": "MJFZXONAtUAy"
      }
    },
    {
      "cell_type": "code",
      "execution_count": null,
      "metadata": {
        "id": "etlDm6DVtLTV"
      },
      "outputs": [],
      "source": [
        "import numpy as np\n",
        "x = np.sqrt(2)\n",
        "print(x)"
      ]
    },
    {
      "cell_type": "code",
      "execution_count": null,
      "metadata": {
        "id": "YuTOvEtetLTY"
      },
      "outputs": [],
      "source": [
        "x = np.sqrt(2)\n",
        "for i in range(1,60):\n",
        "    x = x * x / np.sqrt(2)\n",
        "print(x)"
      ]
    },
    {
      "cell_type": "code",
      "execution_count": null,
      "metadata": {
        "id": "x34S9z3EtLTZ"
      },
      "outputs": [],
      "source": []
    }
  ],
  "metadata": {
    "kernelspec": {
      "display_name": "Python 3",
      "language": "python",
      "name": "python3"
    },
    "language_info": {
      "codemirror_mode": {
        "name": "ipython",
        "version": 3
      },
      "file_extension": ".py",
      "mimetype": "text/x-python",
      "name": "python",
      "nbconvert_exporter": "python",
      "pygments_lexer": "ipython3",
      "version": "3.7.6"
    },
    "colab": {
      "provenance": []
    }
  },
  "nbformat": 4,
  "nbformat_minor": 0
}
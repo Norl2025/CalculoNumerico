{
  "nbformat": 4,
  "nbformat_minor": 0,
  "metadata": {
    "colab": {
      "provenance": []
    },
    "kernelspec": {
      "name": "python3",
      "display_name": "Python 3"
    },
    "language_info": {
      "name": "python"
    }
  },
  "cells": [
    {
      "cell_type": "code",
      "execution_count": null,
      "metadata": {
        "id": "WKkrzLJ3zLqe"
      },
      "outputs": [],
      "source": [
        "import numpy as np"
      ]
    },
    {
      "cell_type": "code",
      "source": [
        "def sumatoria(f,n):\n",
        "  res = 0\n",
        "  # for i in range(0,n+1,1):\n",
        "  for i in range(n,-1,-1):\n",
        "    # print(i)\n",
        "    res += f(i)\n",
        "  print(i)\n",
        "  return res\n",
        "\n",
        "def formula(r,n):\n",
        "  res = (1-r**(n+1))/(1-r)\n",
        "  return res"
      ],
      "metadata": {
        "id": "ZSXkSiYpzQQg"
      },
      "execution_count": null,
      "outputs": []
    },
    {
      "cell_type": "code",
      "source": [
        "# r = 1 - 10**(-14)\n",
        "r = 1/3\n",
        "n = 10**2\n",
        "\n",
        "def func(x):\n",
        "  return r**x\n",
        "\n",
        "print(\"sumatoria:\", sumatoria(func,n))\n",
        "print(\"fórmula:\", formula(r,n))"
      ],
      "metadata": {
        "colab": {
          "base_uri": "https://localhost:8080/"
        },
        "id": "slmyKkfR0aU8",
        "outputId": "fe9559c2-2eae-4fb7-e889-ed221dad8e5a"
      },
      "execution_count": null,
      "outputs": [
        {
          "output_type": "stream",
          "name": "stdout",
          "text": [
            "0\n",
            "sumatoria: 1.5\n",
            "fórmula: 1.4999999999999998\n"
          ]
        }
      ]
    }
  ]
}